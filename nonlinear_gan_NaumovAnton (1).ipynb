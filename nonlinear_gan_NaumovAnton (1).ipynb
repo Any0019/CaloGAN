{
 "cells": [
  {
   "cell_type": "code",
   "execution_count": 1,
   "metadata": {},
   "outputs": [
    {
     "name": "stdout",
     "output_type": "stream",
     "text": [
      "env: CUDA_VISIBLE_DEVICES=\n"
     ]
    },
    {
     "name": "stderr",
     "output_type": "stream",
     "text": [
      "Using TensorFlow backend.\n"
     ]
    }
   ],
   "source": [
    "%env CUDA_VISIBLE_DEVICES=\n",
    "import numpy as np\n",
    "import tensorflow as tf\n",
    "from keras.layers import *\n",
    "from keras.models import Sequential\n",
    "\n",
    "# define batchsize (as placeholder)\n",
    "batch_size = tf.placeholder_with_default(128, [])\n",
    "\n",
    "#define generator and discriminator\n",
    "gen = Sequential([InputLayer([1]), Dense(12, activation = 'elu'), Dense(1, activation = 'sigmoid')])\n",
    "disc = Sequential([InputLayer([1]), Dense(12, activation = 'elu'), Dense(2, activation = 'sigmoid')])\n",
    "\n",
    "# define real data - as normal distribution (tf.random_normal), define noise(z) as uniform distribution\n",
    "noise = tf.random_uniform(shape = [batch_size, 1], minval = 0., maxval = 1.)\n",
    "real_data = tf.random_normal(shape = [batch_size, 1], mean = 4)\n",
    "\n",
    "# count gen_data\n",
    "gen_data = gen(noise)\n",
    "\n",
    "\n",
    "logit s _on_real_data = disc(real_data)\n",
    "logits_on_gen_data = disc(gen_data)\n",
    "\n",
    "\n",
    "IS_REAL = 1\n",
    "IS_FAKE = 0\n",
    "\n",
    "disc_loss = -0.5 * tf.reduce_mean(tf.nn.log_softmax(logits_on_real_data[:, IS_REAL]) + \n",
    "                           tf.nn.log_softmax(logits_on_gen_data[:, IS_FAKE]))\n",
    "\n",
    "gen_loss = -tf.reduce_mean(tf.nn.log_softmax(logits_on_gen_data[:, IS_REAL]))\n",
    "\n",
    "\n",
    "train_disc = tf.train.GradientDescentOptimizer(1e-2).minimize(disc_loss, var_list = disc.trainable_weights)\n",
    "# learning rate = 1e-2\n",
    "\n",
    "train_gen = tf.train.GradientDescentOptimizer(1e-3).minimize(gen_loss, var_list = gen.trainable_weights)\n",
    "# learning rate = 1e-3"
   ]
  },
  {
   "cell_type": "code",
   "execution_count": 2,
   "metadata": {
    "collapsed": true
   },
   "outputs": [],
   "source": [
    "sess = tf.InteractiveSession()\n",
    "sess.run(tf.global_variables_initializer())"
   ]
  },
  {
   "cell_type": "code",
   "execution_count": 3,
   "metadata": {},
   "outputs": [
    {
     "data": {
      "image/png": "[encoded data removed]",
      "text/plain": [
       "<matplotlib.figure.Figure at 0x7f12981cf898>"
      ]
     },
     "metadata": {},
     "output_type": "display_data"
    },
    {
     "data": {
      "image/png": "[encoded data removed]",
      "text/plain": [
       "<matplotlib.figure.Figure at 0x7f13007cda90>"
      ]
     },
     "metadata": {},
     "output_type": "display_data"
    }
   ],
   "source": [
    "import matplotlib.pyplot as plt\n",
    "from IPython.display import clear_output\n",
    "%matplotlib inline\n",
    "\n",
    "for i in range(100000):\n",
    "    for _ in range(5):\n",
    "        sess.run(train_disc)\n",
    "    sess.run(train_gen)\n",
    "    \n",
    "    if i % 1000 == 0:\n",
    "        clear_output(True)\n",
    "        plt.hist(sess.run(gen_data, {batch_size:1000})[:,0], range=[0, 6], alpha=0.5, normed=True)\n",
    "        plt.hist(sess.run(real_data, {batch_size:1000})[:,0], range=[0, 6], alpha=0.5, normed=True)\n",
    "        x = np.linspace(0,6, dtype='float32')\n",
    "        plt.plot(x, sess.run(tf.nn.softmax(disc(tf.constant(x[:, None]))))[:, IS_REAL])\n",
    "\n",
    "        plt.show()\n",
    "        \n",
    "        plt.hist(sess.run(tf.nn.softmax(logits_on_real_data)[:, IS_REAL], {batch_size:100}),\n",
    "                 range=[0, 1], alpha=0.5)\n",
    "        plt.hist(sess.run(tf.nn.softmax(logits_on_gen_data)[:, IS_REAL], {batch_size:100}),\n",
    "                 range=[0, 1], alpha=0.5)\n",
    "        plt.show()"
   ]
  },
  {
   "cell_type": "code",
   "execution_count": null,
   "metadata": {
    "collapsed": true
   },
   "outputs": [],
   "source": []
  }
 ],
 "metadata": {
  "kernelspec": {
   "display_name": "Python 3",
   "language": "python",
   "name": "python3"
  },
  "language_info": {
   "codemirror_mode": {
    "name": "ipython",
    "version": 3
   },
   "file_extension": ".py",
   "mimetype": "text/x-python",
   "name": "python",
   "nbconvert_exporter": "python",
   "pygments_lexer": "ipython3",
   "version": "3.6.1"
  }
 },
 "nbformat": 4,
 "nbformat_minor": 2
}
